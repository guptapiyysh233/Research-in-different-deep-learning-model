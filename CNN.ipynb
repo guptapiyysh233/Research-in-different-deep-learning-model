{
  "cells": [
    {
      "cell_type": "code",
      "execution_count": null,
      "metadata": {
        "colab": {
          "base_uri": "https://localhost:8080/"
        },
        "id": "XaIt_-C0B8ox",
        "outputId": "20270fe3-9c7b-47d8-f103-1d8ecf61d986"
      },
      "outputs": [
        {
          "name": "stdout",
          "output_type": "stream",
          "text": [
            "Mounted at /content/drive\n"
          ]
        }
      ],
      "source": [
        "from google.colab import drive\n",
        "drive.mount('/content/drive')\n"
      ]
    },
    {
      "cell_type": "code",
      "execution_count": null,
      "metadata": {
        "id": "dH4vKjpOB9eE"
      },
      "outputs": [],
      "source": [
        "train_path = \"/content/drive/MyDrive/Data\"\n"
      ]
    },
    {
      "cell_type": "code",
      "execution_count": null,
      "metadata": {
        "id": "otosJEfSCLYD"
      },
      "outputs": [],
      "source": [
        "import numpy as np\n",
        "import PIL\n",
        "import tensorflow as tf\n",
        "from tensorflow import keras\n",
        "from tensorflow.keras import layers\n",
        "import os\n",
        "from tensorflow.python.keras.layers import Dense, Flatten\n",
        "from tensorflow.keras.optimizers import Adam\n"
      ]
    },
    {
      "cell_type": "code",
      "execution_count": null,
      "metadata": {
        "colab": {
          "base_uri": "https://localhost:8080/"
        },
        "id": "qxs4Po54CNfX",
        "outputId": "5ef43f0d-164a-4abf-a4a8-6646dd5385aa"
      },
      "outputs": [
        {
          "name": "stdout",
          "output_type": "stream",
          "text": [
            "Found 1016 files belonging to 2 classes.\n",
            "Using 712 files for training.\n"
          ]
        }
      ],
      "source": [
        "img_height, img_width = 254, 254\n",
        "batch_size = 32\n",
        "train_data = tf.keras.preprocessing.image_dataset_from_directory(\n",
        "           train_path,\n",
        "           subset=\"training\",\n",
        "           validation_split=0.3,\n",
        "           seed=123,\n",
        "           label_mode = 'categorical',\n",
        "           image_size = (img_height, img_width),\n",
        "            batch_size = batch_size\n",
        ")\n"
      ]
    },
    {
      "cell_type": "code",
      "execution_count": null,
      "metadata": {
        "colab": {
          "base_uri": "https://localhost:8080/"
        },
        "id": "XG4FEcNXCPLN",
        "outputId": "eb86c124-cff4-4c52-e7ee-8dbfdce021ac"
      },
      "outputs": [
        {
          "name": "stdout",
          "output_type": "stream",
          "text": [
            "Found 1016 files belonging to 2 classes.\n",
            "Using 304 files for validation.\n"
          ]
        }
      ],
      "source": [
        "img_height, img_width = 254, 254\n",
        "batch_size = 32\n",
        "test_data = tf.keras.preprocessing.image_dataset_from_directory(\n",
        "           train_path,\n",
        "           subset=\"validation\",\n",
        "           validation_split=0.3,\n",
        "           seed=123,\n",
        "           label_mode = 'categorical',\n",
        "           image_size = (img_height, img_width),\n",
        "            batch_size = batch_size\n",
        ")"
      ]
    },
    {
      "cell_type": "code",
      "execution_count": null,
      "metadata": {
        "id": "djw91ZL1CQ97"
      },
      "outputs": [],
      "source": [
        "model = Sequential([\n",
        "  layers.experimental.preprocessing.Rescaling(1./255, input_shape=(img_height, img_width, 3)),\n",
        "  layers.Conv2D(16, 3, padding='same', activation='relu'),\n",
        "  layers.MaxPooling2D(),\n",
        "  layers.Conv2D(32, 3, padding='same', activation='relu'),\n",
        "  layers.MaxPooling2D(),\n",
        "  layers.Conv2D(64, 3, padding='same', activation='relu'),\n",
        "  layers.MaxPooling2D(),\n",
        "  layers.Flatten(),\n",
        "  layers.Dense(128, activation='relu'),\n",
        "  layers.Dense(2,activation='sigmoid')\n",
        "])\n",
        "   "
      ]
    },
    {
      "cell_type": "code",
      "execution_count": null,
      "metadata": {
        "colab": {
          "base_uri": "https://localhost:8080/"
        },
        "id": "eISyGf7RC6Rh",
        "outputId": "512f676e-9a6e-416e-845b-1de6615cfa66"
      },
      "outputs": [
        {
          "name": "stdout",
          "output_type": "stream",
          "text": [
            "Model: \"sequential_1\"\n",
            "_________________________________________________________________\n",
            " Layer (type)                Output Shape              Param #   \n",
            "=================================================================\n",
            " rescaling (Rescaling)       (None, 254, 254, 3)       0         \n",
            "                                                                 \n",
            " conv2d (Conv2D)             (None, 254, 254, 16)      448       \n",
            "                                                                 \n",
            " max_pooling2d (MaxPooling2D  (None, 127, 127, 16)     0         \n",
            " )                                                               \n",
            "                                                                 \n",
            " conv2d_1 (Conv2D)           (None, 127, 127, 32)      4640      \n",
            "                                                                 \n",
            " max_pooling2d_1 (MaxPooling  (None, 63, 63, 32)       0         \n",
            " 2D)                                                             \n",
            "                                                                 \n",
            " conv2d_2 (Conv2D)           (None, 63, 63, 64)        18496     \n",
            "                                                                 \n",
            " max_pooling2d_2 (MaxPooling  (None, 31, 31, 64)       0         \n",
            " 2D)                                                             \n",
            "                                                                 \n",
            " flatten (Flatten)           (None, 61504)             0         \n",
            "                                                                 \n",
            " dense (Dense)               (None, 128)               7872640   \n",
            "                                                                 \n",
            " dense_1 (Dense)             (None, 2)                 258       \n",
            "                                                                 \n",
            "=================================================================\n",
            "Total params: 7,896,482\n",
            "Trainable params: 7,896,482\n",
            "Non-trainable params: 0\n",
            "_________________________________________________________________\n"
          ]
        }
      ],
      "source": [
        "model.summary()"
      ]
    },
    {
      "cell_type": "code",
      "execution_count": null,
      "metadata": {
        "id": "LLwxGq2wC-PR"
      },
      "outputs": [],
      "source": [
        "model.compile(optimizer=Adam(learning_rate=0.001), loss = 'binary_crossentropy',metrics=['accuracy'])"
      ]
    },
    {
      "cell_type": "code",
      "execution_count": null,
      "metadata": {
        "colab": {
          "base_uri": "https://localhost:8080/"
        },
        "id": "sPlutr7-DECz",
        "outputId": "0090330d-4b75-4938-ccdc-da2a41dfccda"
      },
      "outputs": [
        {
          "name": "stdout",
          "output_type": "stream",
          "text": [
            "Epoch 1/10\n",
            "23/23 [==============================] - 6s 141ms/step - loss: 0.8338 - accuracy: 0.6278 - val_loss: 0.5190 - val_accuracy: 0.8059\n",
            "Epoch 2/10\n",
            "23/23 [==============================] - 4s 126ms/step - loss: 0.4274 - accuracy: 0.8146 - val_loss: 0.3717 - val_accuracy: 0.8487\n",
            "Epoch 3/10\n",
            "23/23 [==============================] - 3s 122ms/step - loss: 0.3329 - accuracy: 0.8722 - val_loss: 1.0167 - val_accuracy: 0.7072\n",
            "Epoch 4/10\n",
            "23/23 [==============================] - 3s 123ms/step - loss: 0.3716 - accuracy: 0.8694 - val_loss: 0.3108 - val_accuracy: 0.8717\n",
            "Epoch 5/10\n",
            "23/23 [==============================] - 4s 161ms/step - loss: 0.2792 - accuracy: 0.8834 - val_loss: 0.2789 - val_accuracy: 0.8849\n",
            "Epoch 6/10\n",
            "23/23 [==============================] - 3s 122ms/step - loss: 0.2166 - accuracy: 0.9242 - val_loss: 0.2647 - val_accuracy: 0.8849\n",
            "Epoch 7/10\n",
            "23/23 [==============================] - 3s 124ms/step - loss: 0.1782 - accuracy: 0.9340 - val_loss: 0.3401 - val_accuracy: 0.8487\n",
            "Epoch 8/10\n",
            "23/23 [==============================] - 3s 125ms/step - loss: 0.2429 - accuracy: 0.9115 - val_loss: 0.2863 - val_accuracy: 0.8914\n",
            "Epoch 9/10\n",
            "23/23 [==============================] - 3s 124ms/step - loss: 0.2070 - accuracy: 0.9157 - val_loss: 0.3111 - val_accuracy: 0.8882\n",
            "Epoch 10/10\n",
            "23/23 [==============================] - 4s 126ms/step - loss: 0.1459 - accuracy: 0.9565 - val_loss: 0.3839 - val_accuracy: 0.8355\n"
          ]
        }
      ],
      "source": [
        "result = model.fit(\n",
        "           train_data,\n",
        "           validation_data = test_data,\n",
        "           epochs= 10\n",
        ")"
      ]
    },
    {
      "cell_type": "code",
      "execution_count": null,
      "metadata": {
        "id": "jiXXTC3SDHiE"
      },
      "outputs": [],
      "source": [
        "import matplotlib.pyplot as plt\n"
      ]
    },
    {
      "cell_type": "code",
      "execution_count": null,
      "metadata": {
        "colab": {
          "base_uri": "https://localhost:8080/",
          "height": 295
        },
        "id": "x9lZAA2wHmWJ",
        "outputId": "a6a5168a-eee8-41d0-ef27-387b878c9938"
      },
      "outputs": [
        {
          "data": {
            "image/png": "[encoded data removed]",
            "text/plain": [
              "<Figure size 432x288 with 1 Axes>"
            ]
          },
          "metadata": {
            "needs_background": "light"
          },
          "output_type": "display_data"
        }
      ],
      "source": [
        "plt.plot(result.history['accuracy'], color='blue', label='train')\n",
        "plt.plot(result.history['val_accuracy'], color ='orange', label='train')\n",
        "plt.grid(True)\n",
        "plt.title(\"Train and Test accuracy with epochs\")\n",
        "plt.xlabel(\"Training Epoch\")\n",
        "plt.ylabel(\"Train and test accuracy\")\n",
        "plt.show()"
      ]
    },
    {
      "cell_type": "code",
      "execution_count": null,
      "metadata": {
        "colab": {
          "base_uri": "https://localhost:8080/",
          "height": 295
        },
        "id": "asJsAwKcHrSz",
        "outputId": "dbd9db5d-6c78-49a4-c81f-d110da016375"
      },
      "outputs": [
        {
          "data": {
            "image/png": "[encoded data removed]",
            "text/plain": [
              "<Figure size 432x288 with 1 Axes>"
            ]
          },
          "metadata": {
            "needs_background": "light"
          },
          "output_type": "display_data"
        }
      ],
      "source": [
        "plt.plot(result.history['loss'], color='blue', label='train')\n",
        "plt.plot(result.history['val_accuracy'], color ='orange', label='train')\n",
        "plt.grid(True)\n",
        "plt.title(\"Train and Test loss with epochs\")\n",
        "plt.xlabel(\"Training Epoch\")\n",
        "plt.ylabel(\"Train and test loss\")\n",
        "plt.show()"
      ]
    },
    {
      "cell_type": "code",
      "execution_count": null,
      "metadata": {
        "id": "Jg5c_WQyHtiB"
      },
      "outputs": [],
      "source": []
    }
  ],
  "metadata": {
    "accelerator": "GPU",
    "colab": {
      "provenance": []
    },
    "gpuClass": "standard",
    "kernelspec": {
      "display_name": "Python 3",
      "name": "python3"
    },
    "language_info": {
      "name": "python"
    }
  },
  "nbformat": 4,
  "nbformat_minor": 0
}
