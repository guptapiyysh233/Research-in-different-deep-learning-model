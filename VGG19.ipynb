{
  "nbformat": 4,
  "nbformat_minor": 0,
  "metadata": {
    "colab": {
      "provenance": []
    },
    "kernelspec": {
      "name": "python3",
      "display_name": "Python 3"
    },
    "language_info": {
      "name": "python"
    },
    "accelerator": "GPU",
    "gpuClass": "standard"
  },
  "cells": [
    {
      "cell_type": "code",
      "execution_count": 2,
      "metadata": {
        "colab": {
          "base_uri": "https://localhost:8080/"
        },
        "id": "rvavuTUKu1WC",
        "outputId": "fb45d715-6bb5-45c4-cc4b-7f5616ac3486"
      },
      "outputs": [
        {
          "output_type": "stream",
          "name": "stdout",
          "text": [
            "Mounted at /content/drive\n"
          ]
        }
      ],
      "source": [
        "from google.colab import drive\n",
        "drive.mount('/content/drive')\n",
        "\n"
      ]
    },
    {
      "cell_type": "code",
      "source": [
        "train_path = \"/content/drive/MyDrive/Data\""
      ],
      "metadata": {
        "id": "Yr-1-agcvBYl"
      },
      "execution_count": 3,
      "outputs": []
    },
    {
      "cell_type": "code",
      "source": [
        "import numpy as np\n",
        "import PIL\n",
        "import tensorflow as tf\n",
        "from tensorflow import keras\n",
        "from tensorflow.keras import layers\n",
        "import os\n",
        "from tensorflow.python.keras.layers import Dense, Flatten\n",
        "from tensorflow.keras.optimizers import Adam\n"
      ],
      "metadata": {
        "id": "ow-B8_7tvNl3"
      },
      "execution_count": 4,
      "outputs": []
    },
    {
      "cell_type": "code",
      "source": [
        "img_height, img_width = 254, 254\n",
        "batch_size = 32\n",
        "train_data = tf.keras.preprocessing.image_dataset_from_directory(\n",
        "           train_path,\n",
        "           subset=\"training\",\n",
        "           validation_split=0.3,\n",
        "           seed=123,\n",
        "           label_mode = 'categorical',\n",
        "           image_size = (img_height, img_width),\n",
        "            batch_size = batch_size\n",
        ")\n"
      ],
      "metadata": {
        "colab": {
          "base_uri": "https://localhost:8080/"
        },
        "id": "hKR73rrLvPG9",
        "outputId": "7946f341-5b8d-4ceb-8041-508ba4b18052"
      },
      "execution_count": 5,
      "outputs": [
        {
          "output_type": "stream",
          "name": "stdout",
          "text": [
            "Found 1016 files belonging to 2 classes.\n",
            "Using 712 files for training.\n"
          ]
        }
      ]
    },
    {
      "cell_type": "code",
      "source": [
        "img_height, img_width = 254, 254\n",
        "batch_size = 32\n",
        "test_data = tf.keras.preprocessing.image_dataset_from_directory(\n",
        "           train_path,\n",
        "           subset=\"validation\",\n",
        "           validation_split=0.3,\n",
        "           seed=123,\n",
        "           label_mode = 'categorical',\n",
        "           image_size = (img_height, img_width),\n",
        "            batch_size = batch_size\n",
        ")"
      ],
      "metadata": {
        "colab": {
          "base_uri": "https://localhost:8080/"
        },
        "id": "jmKkjNy4vQpx",
        "outputId": "6a47bd62-222d-4468-f2ac-b4d3a46ddb8c"
      },
      "execution_count": 6,
      "outputs": [
        {
          "output_type": "stream",
          "name": "stdout",
          "text": [
            "Found 1016 files belonging to 2 classes.\n",
            "Using 304 files for validation.\n"
          ]
        }
      ]
    },
    {
      "cell_type": "code",
      "source": [
        "from keras.engine.sequential import Sequential\n",
        "VGG19_model = Sequential()\n",
        "\n",
        "default_model = tf.keras.applications.VGG19(\n",
        "    include_top=False,\n",
        "    weights=\"imagenet\",\n",
        "    input_shape= (254,254, 3),\n",
        "    pooling= 'avg',\n",
        "    classes=2,\n",
        "    classifier_activation=\"sigmoid\",\n",
        ")\n",
        "\n",
        "VGG19_model.add(default_model)\n",
        "VGG19_model.add(Flatten())\n",
        "VGG19_model.add(Dense(512, activation='relu'))\n",
        "VGG19_model.add(Dense(2, activation='sigmoid'))"
      ],
      "metadata": {
        "colab": {
          "base_uri": "https://localhost:8080/"
        },
        "id": "ZiMImoYfvSh3",
        "outputId": "101aa1aa-9d2b-4a5c-c405-8e632668db94"
      },
      "execution_count": 7,
      "outputs": [
        {
          "output_type": "stream",
          "name": "stdout",
          "text": [
            "Downloading data from https://storage.googleapis.com/tensorflow/keras-applications/vgg19/vgg19_weights_tf_dim_ordering_tf_kernels_notop.h5\n",
            "80134624/80134624 [==============================] - 4s 0us/step\n"
          ]
        }
      ]
    },
    {
      "cell_type": "code",
      "source": [
        "VGG19_model.compile(optimizer=Adam(learning_rate=0.001), loss = 'binary_crossentropy',metrics=['accuracy'])"
      ],
      "metadata": {
        "id": "GV1tYOy8kz46"
      },
      "execution_count": 8,
      "outputs": []
    },
    {
      "cell_type": "code",
      "source": [
        "result = VGG19_model.fit(\n",
        "           train_data,\n",
        "           validation_data = test_data,\n",
        "           epochs= 10\n",
        ")"
      ],
      "metadata": {
        "colab": {
          "base_uri": "https://localhost:8080/"
        },
        "id": "z6VoUzqvwc1C",
        "outputId": "0da23a90-1316-4fb6-8175-877671766ecf"
      },
      "execution_count": 9,
      "outputs": [
        {
          "output_type": "stream",
          "name": "stdout",
          "text": [
            "Epoch 1/10\n",
            "23/23 [==============================] - 378s 12s/step - loss: 17.6961 - accuracy: 0.4831 - val_loss: 0.6929 - val_accuracy: 0.4704\n",
            "Epoch 2/10\n",
            "23/23 [==============================] - 18s 753ms/step - loss: 0.6989 - accuracy: 0.5618 - val_loss: 0.6883 - val_accuracy: 0.5362\n",
            "Epoch 3/10\n",
            "23/23 [==============================] - 18s 771ms/step - loss: 0.7136 - accuracy: 0.4944 - val_loss: 0.6914 - val_accuracy: 0.5329\n",
            "Epoch 4/10\n",
            "23/23 [==============================] - 18s 757ms/step - loss: 0.6735 - accuracy: 0.5716 - val_loss: 0.8007 - val_accuracy: 0.4704\n",
            "Epoch 5/10\n",
            "23/23 [==============================] - 18s 755ms/step - loss: 0.6966 - accuracy: 0.5140 - val_loss: 0.6868 - val_accuracy: 0.5296\n",
            "Epoch 6/10\n",
            "23/23 [==============================] - 18s 750ms/step - loss: 0.6762 - accuracy: 0.5674 - val_loss: 0.6464 - val_accuracy: 0.5625\n",
            "Epoch 7/10\n",
            "23/23 [==============================] - 18s 753ms/step - loss: 0.6532 - accuracy: 0.6671 - val_loss: 0.6318 - val_accuracy: 0.7072\n",
            "Epoch 8/10\n",
            "23/23 [==============================] - 18s 755ms/step - loss: 0.6544 - accuracy: 0.6404 - val_loss: 0.5881 - val_accuracy: 0.6875\n",
            "Epoch 9/10\n",
            "23/23 [==============================] - 18s 755ms/step - loss: 0.5948 - accuracy: 0.6896 - val_loss: 0.5846 - val_accuracy: 0.7072\n",
            "Epoch 10/10\n",
            "23/23 [==============================] - 18s 752ms/step - loss: 0.5858 - accuracy: 0.7079 - val_loss: 0.5758 - val_accuracy: 0.6974\n"
          ]
        }
      ]
    },
    {
      "cell_type": "code",
      "source": [
        "import matplotlib.pyplot as plt"
      ],
      "metadata": {
        "id": "-qd3_GIuwiG9"
      },
      "execution_count": 10,
      "outputs": []
    },
    {
      "cell_type": "code",
      "source": [
        "plt.plot(result.history['accuracy'], color='blue', label='train')\n",
        "plt.plot(result.history['val_accuracy'], color ='orange', label='train')\n",
        "plt.grid(True)\n",
        "plt.title(\"Train and Test accuracy with epochs\")\n",
        "plt.xlabel(\"Training Epoch\")\n",
        "plt.ylabel(\"Train and test accuracy\")\n",
        "plt.show()"
      ],
      "metadata": {
        "colab": {
          "base_uri": "https://localhost:8080/",
          "height": 295
        },
        "id": "GQw1q5WoysbL",
        "outputId": "e9c861a7-0ab8-4d31-86a6-ade2a694b347"
      },
      "execution_count": 11,
      "outputs": [
        {
          "output_type": "display_data",
          "data": {
            "text/plain": [
              "<Figure size 432x288 with 1 Axes>"
            ],
            "image/png": "[encoded data removed]"
          },
          "metadata": {
            "needs_background": "light"
          }
        }
      ]
    },
    {
      "cell_type": "code",
      "source": [
        "plt.plot(result.history['loss'], color='blue', label='train')\n",
        "plt.plot(result.history['val_accuracy'], color ='orange', label='train')\n",
        "plt.grid(True)\n",
        "plt.title(\"Train and Test loss with epochs\")\n",
        "plt.xlabel(\"Training Epoch\")\n",
        "plt.ylabel(\"Train and test loss\")\n",
        "plt.show()"
      ],
      "metadata": {
        "colab": {
          "base_uri": "https://localhost:8080/",
          "height": 295
        },
        "id": "D2vQv1r1yzFH",
        "outputId": "c3ee4854-349a-4459-87b9-c420a1e94106"
      },
      "execution_count": 12,
      "outputs": [
        {
          "output_type": "display_data",
          "data": {
            "text/plain": [
              "<Figure size 432x288 with 1 Axes>"
            ],
            "image/png": "[encoded data removed]"
          },
          "metadata": {
            "needs_background": "light"
          }
        }
      ]
    },
    {
      "cell_type": "code",
      "source": [],
      "metadata": {
        "id": "C_GEU057y1Qq"
      },
      "execution_count": null,
      "outputs": []
    }
  ]
}